{
 "cells": [
  {
   "cell_type": "code",
   "execution_count": null,
   "id": "4fb89a3f",
   "metadata": {},
   "outputs": [],
   "source": [
    "\"\"\"\n",
    "This script converts TIF images to PDF format.\n",
    "\n",
    "Modules:\n",
    "    os: Provides a way of using operating system dependent functionality.\n",
    "    glob: Finds all the pathnames matching a specified pattern.\n",
    "    matplotlib.pyplot: A collection of functions that make matplotlib work like MATLAB.\n",
    "\n",
    "Usage:\n",
    "    This script is intended to be run in a Jupyter notebook environment.\n",
    "    Ensure that the required libraries are installed and available in the environment.\n",
    "\n",
    "Example:\n",
    "    # To run this script, simply execute the cells in the Jupyter notebook.\n",
    "    # Ensure that the TIF images are available in the specified directory.\n",
    "\"\"\"\n",
    "\n",
    "# Import necessary libraries\n",
    "import glob\n",
    "import matplotlib.pyplot as plt"
   ]
  },
  {
   "cell_type": "code",
   "execution_count": null,
   "id": "c4c748c2",
   "metadata": {},
   "outputs": [],
   "source": [
    "# Define the folder path where the paper drafts are stored\n",
    "paperfolder = '\\\\OneDrive - Northwestern University\\\\Documents - Backman Lab - Shared Folders\\\\Lab Paper Drafts'\n",
    "\n",
    "# Get the parent folder path for FISH vs. CRISPR paper images\n",
    "parent_folder = glob.glob('C:\\\\Users\\\\**' + paperfolder)[0] + '\\\\FISH vs. CRISPR'\n",
    "\n",
    "# List of directories containing the images to be processed\n",
    "dirs = [\n",
    "        \"\\\\PLOS ONE Revision Files\\\\Revised Figures\\\\Confocal Images\",\n",
    "        \"\\\\PLOS ONE Revision Files\\\\Revised Figures\\\\PWS Images\"\n",
    "]"
   ]
  },
  {
   "cell_type": "code",
   "execution_count": null,
   "id": "2cd83ec7",
   "metadata": {},
   "outputs": [],
   "source": [
    "# Loop through each directory in the list\n",
    "for fold in dirs:\n",
    "    # Loop through each TIF file in the current directory and its subdirectories\n",
    "    for file in glob.glob(parent_folder + fold + '\\\\**\\\\*.tif'):\n",
    "        # Read the image file\n",
    "        im = plt.imread(file)\n",
    "        # Create a new figure and axis\n",
    "        fig, ax = plt.subplots()\n",
    "        # Display the image\n",
    "        plt.imshow(im)\n",
    "        # Remove the axis\n",
    "        plt.axis('off')\n",
    "        # Save the image as a PDF file with specified parameters\n",
    "        plt.savefig(file[0:-4] + '.pdf', dpi=600, transparent=True, bbox_inches='tight', pad_inches=0)\n",
    "        # Close the figure to free up memory\n",
    "        plt.close(fig)"
   ]
  }
 ],
 "metadata": {
  "kernelspec": {
   "display_name": "Python 3 (ipykernel)",
   "language": "python",
   "name": "python3"
  },
  "language_info": {
   "codemirror_mode": {
    "name": "ipython",
    "version": 3
   },
   "file_extension": ".py",
   "mimetype": "text/x-python",
   "name": "python",
   "nbconvert_exporter": "python",
   "pygments_lexer": "ipython3",
   "version": "3.9.18"
  }
 },
 "nbformat": 4,
 "nbformat_minor": 5
}
