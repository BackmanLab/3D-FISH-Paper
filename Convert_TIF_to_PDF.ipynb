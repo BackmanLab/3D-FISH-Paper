{
 "cells": [
  {
   "cell_type": "code",
   "execution_count": 1,
   "id": "4fb89a3f",
   "metadata": {},
   "outputs": [],
   "source": [
    "import os\n",
    "import glob\n",
    "import matplotlib.pyplot as plt"
   ]
  },
  {
   "cell_type": "code",
   "execution_count": 2,
   "id": "c4c748c2",
   "metadata": {},
   "outputs": [],
   "source": [
    "paperfolder = '\\\\OneDrive - Northwestern University\\\\Documents - Backman Lab - Shared Folders\\\\Lab Paper Drafts'\n",
    "parent_folder = glob.glob('C:\\\\Users\\\\**'+paperfolder)[0]+'\\\\FISH vs. CRISPR'\n",
    "dirs = [\"\\\\PLOS ONE Revision Files\\\\Revised Figures\\\\Confocal Images\",\n",
    "        \"\\\\PLOS ONE Revision Files\\\\Revised Figures\\\\PWS Images\"]"
   ]
  },
  {
   "cell_type": "code",
   "execution_count": 3,
   "id": "2cd83ec7",
   "metadata": {},
   "outputs": [],
   "source": [
    "for fold in dirs:\n",
    "    for file in glob.glob(parent_folder+fold+'\\\\**\\\\*.tif'):\n",
    "        im = plt.imread(file)\n",
    "        fig, ax = plt.subplots()\n",
    "        plt.imshow(im)\n",
    "        plt.axis('off')\n",
    "        plt.savefig(file[0:-4]+'.pdf',dpi=600,transparent=True,bbox_inches='tight',pad_inches=0)\n",
    "        plt.close(fig)"
   ]
  }
 ],
 "metadata": {
  "kernelspec": {
   "display_name": "Python 3 (ipykernel)",
   "language": "python",
   "name": "python3"
  },
  "language_info": {
   "codemirror_mode": {
    "name": "ipython",
    "version": 3
   },
   "file_extension": ".py",
   "mimetype": "text/x-python",
   "name": "python",
   "nbconvert_exporter": "python",
   "pygments_lexer": "ipython3",
   "version": "3.9.18"
  }
 },
 "nbformat": 4,
 "nbformat_minor": 5
}
